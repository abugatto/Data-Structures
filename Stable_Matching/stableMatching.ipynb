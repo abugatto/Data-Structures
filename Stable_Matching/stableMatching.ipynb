{
 "cells": [
  {
   "cell_type": "code",
   "execution_count": 2,
   "metadata": {},
   "outputs": [],
   "source": [
    "import Stable_Matching.galeShapely as sm"
   ]
  },
  {
   "cell_type": "code",
   "execution_count": 3,
   "metadata": {},
   "outputs": [],
   "source": [
    "#Make preference lists\n",
    "women = {\n",
    "    0 : [2,1,0],\n",
    "    1 : [2,0,1],\n",
    "    2 : [0,1,2]\n",
    "}\n",
    "\n",
    "men = {\n",
    "    0 : [1,0,2],\n",
    "    1 : [1,2,0],\n",
    "    2 : [2,1,0]\n",
    "}"
   ]
  },
  {
   "cell_type": "code",
   "execution_count": 4,
   "metadata": {},
   "outputs": [
    {
     "name": "stdout",
     "output_type": "stream",
     "text": [
      "men:{0: [1, 0, 2], 1: [1, 2, 0], 2: [2, 1, 0]}\n",
      "women:{0: [2, 1, 0], 1: [2, 0, 1], 2: [0, 1, 2]}\n",
      "engagedm:{}\n",
      "engagedw:{}\n",
      "m0's current top preference w1 is not engaged\n",
      "match: w1 : m0\n",
      "\n",
      "men:{1: [1, 2, 0], 2: [2, 1, 0]}\n",
      "women:{0: [2, 1, 0], 2: [0, 1, 2]}\n",
      "engagedm:{0: [0, 2]}\n",
      "engagedw:{1: [2, 0, 1]}\n",
      "m1's current top preference w1 is happily engaged\n",
      "\n",
      "men:{2: [2, 1, 0], 1: [2, 0]}\n",
      "women:{0: [2, 1, 0], 2: [0, 1, 2]}\n",
      "engagedm:{0: [0, 2]}\n",
      "engagedw:{1: [2, 0, 1]}\n",
      "m1's current top preference w2 is not engaged\n",
      "match: w2 : m1\n",
      "\n",
      "men:{2: [2, 1, 0]}\n",
      "women:{0: [2, 1, 0]}\n",
      "engagedm:{0: [0, 2], 1: [0]}\n",
      "engagedw:{1: [2, 0, 1], 2: [0, 1, 2]}\n",
      "m2's current top preference w2 is happily engaged\n",
      "\n",
      "men:{2: [1, 0]}\n",
      "women:{0: [2, 1, 0]}\n",
      "engagedm:{0: [0, 2], 1: [0]}\n",
      "engagedw:{1: [2, 0, 1], 2: [0, 1, 2]}\n",
      "m2's current top preference w1 is engaged\n",
      "w1 prefers m2 over m0\n",
      "unmatch: w1 : m0\n",
      "match: w1 : m2\n",
      "\n",
      "men:{0: [0]}\n",
      "women:{0: [2, 1, 0]}\n",
      "engagedm:{0: [0, 2], 1: [0]}\n",
      "engagedw:{1: [2, 0, 1], 2: [0, 1, 2]}\n",
      "m0's current top preference w0 is not engaged\n",
      "match: w0 : m0\n",
      "\n"
     ]
    },
    {
     "data": {
      "text/plain": [
       "{1: 2, 2: 1, 0: 0}"
      ]
     },
     "execution_count": 4,
     "metadata": {},
     "output_type": "execute_result"
    }
   ],
   "source": [
    "#Run gale shapely on the lists\n",
    "sm.galeShapely(men, women)"
   ]
  }
 ],
 "metadata": {
  "interpreter": {
   "hash": "cb02f8e57984963e5fc06116c76890debe1b9fa61faca15397e609904bc8b018"
  },
  "kernelspec": {
   "display_name": "Python 3.8.8 ('base')",
   "language": "python",
   "name": "python3"
  },
  "language_info": {
   "codemirror_mode": {
    "name": "ipython",
    "version": 3
   },
   "file_extension": ".py",
   "mimetype": "text/x-python",
   "name": "python",
   "nbconvert_exporter": "python",
   "pygments_lexer": "ipython3",
   "version": "3.8.8"
  },
  "orig_nbformat": 4
 },
 "nbformat": 4,
 "nbformat_minor": 2
}
